{
 "cells": [
  {
   "cell_type": "code",
   "execution_count": 7,
   "metadata": {},
   "outputs": [
    {
     "name": "stdout",
     "output_type": "stream",
     "text": [
      "[-0.32688747756753117, -0.42311252243246883]\n"
     ]
    }
   ],
   "source": [
    "import numpy as np\n",
    "\n",
    "def resuelve_ec(a=1,b=2,c=3):\n",
    "  if a!=0:\n",
    "     d=b**-4*a*c\n",
    "     if d>0:\n",
    "       sol = [(-b + np.sqrt(d))/(2*a),\n",
    "              (-b - np.sqrt(d))/(2*a)\n",
    "              ]\n",
    "     elif d==0:\n",
    "       sol = [-b/(2*a)]    \n",
    "     else:\n",
    "       sol = []\n",
    "  elif b!=0:\n",
    "       sol = [c/b]\n",
    "  elif c!=0:\n",
    "       sol = []\n",
    "  else:\n",
    "       sol = [-np.inf,np.inf]\n",
    "  return sol\n",
    " \n",
    "print(resuelve_ec(a=4,b=3))"
   ]
  },
  {
   "cell_type": "code",
   "execution_count": 10,
   "metadata": {},
   "outputs": [],
   "source": [
    "import numpy as np\n",
    "g=9.81\n",
    "def calc_trayectoria(v0,theta,vt):\n",
    "    t = np.linspace(0,(v0*np.sin(theta)+vt)/g,100)\n",
    "    x= (v0*vt*np.cos(theta)/g) * (1-np.exp(-g*t/vt))\n",
    "    z= -vt*t + (vt/g)*(v0*np.sin(theta)+vt) * (1-np.exp(-g*t/vt))\n",
    "    return(t,x,z)\n",
    "\n",
    "(t,x,z)=calc_trayectoria(v0=1,theta=np.pi/4,vt=4)\n"
   ]
  },
  {
   "cell_type": "code",
   "execution_count": 11,
   "metadata": {},
   "outputs": [],
   "source": [
    "%matplotlib inline\n",
    "\n",
    "import matplotlib\n",
    "import matplotlib.pyplot as plt"
   ]
  },
  {
   "cell_type": "code",
   "execution_count": 14,
   "metadata": {},
   "outputs": [
    {
     "data": {
      "text/plain": [
       "[<matplotlib.lines.Line2D at 0x7fdbeb1b09b0>]"
      ]
     },
     "execution_count": 14,
     "metadata": {},
     "output_type": "execute_result"
    },
    {
     "data": {
      "image/png": "[encoded data removed]",
      "text/plain": [
       "<Figure size 432x288 with 1 Axes>"
      ]
     },
     "metadata": {
      "needs_background": "light"
     },
     "output_type": "display_data"
    }
   ],
   "source": [
    "plt.plot(x,z)"
   ]
  },
  {
   "cell_type": "code",
   "execution_count": null,
   "metadata": {},
   "outputs": [],
   "source": []
  }
 ],
 "metadata": {
  "kernelspec": {
   "display_name": "Python 3",
   "language": "python",
   "name": "python3"
  },
  "language_info": {
   "codemirror_mode": {
    "name": "ipython",
    "version": 3
   },
   "file_extension": ".py",
   "mimetype": "text/x-python",
   "name": "python",
   "nbconvert_exporter": "python",
   "pygments_lexer": "ipython3",
   "version": "3.6.6"
  }
 },
 "nbformat": 4,
 "nbformat_minor": 2
}
