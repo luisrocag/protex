{
 "cells": [
  {
   "cell_type": "markdown",
   "metadata": {},
   "source": [
    "## Ingreso y salida de datos\n",
    "## https://github.com/luisrocag/protex/blob/master/laboratorio1.ipynb"
   ]
  },
  {
   "cell_type": "code",
   "execution_count": 2,
   "metadata": {},
   "outputs": [
    {
     "name": "stdout",
     "output_type": "stream",
     "text": [
      "¿Cómo se llama?\n",
      "luis\n",
      "Me alegro de conocerle, luis\n"
     ]
    }
   ],
   "source": [
    "print(\"¿Cómo se llama?\")\n",
    "nombre = input()\n",
    "print(f\"Me alegro de conocerle, {nombre}\")"
   ]
  },
  {
   "cell_type": "markdown",
   "metadata": {},
   "source": [
    "## Problema 1"
   ]
  },
  {
   "cell_type": "code",
   "execution_count": 4,
   "metadata": {},
   "outputs": [
    {
     "name": "stdout",
     "output_type": "stream",
     "text": [
      "Ingrese su edad: 9\n",
      "Usted es menor de edad.\n"
     ]
    }
   ],
   "source": [
    "EDAD = int(input(\"Ingrese su edad: \"))\n",
    "if EDAD>=18:\n",
    "    print(\"Usted es mayor de edad.\")\n",
    "else:\n",
    "    print(\"Usted es menor de edad.\")  "
   ]
  },
  {
   "cell_type": "markdown",
   "metadata": {},
   "source": [
    "## Estructura repetitiva"
   ]
  },
  {
   "cell_type": "code",
   "execution_count": 10,
   "metadata": {},
   "outputs": [
    {
     "name": "stdout",
     "output_type": "stream",
     "text": [
      "    0    0    0\n",
      "    1    1    1\n",
      "    2    4    8\n",
      "    3    9   27\n",
      "    4   16   64\n",
      "    5   25  125\n",
      "    6   36  216\n",
      "    7   49  343\n",
      "    8   64  512\n",
      "    9   81  729\n",
      "   10  100 1000\n"
     ]
    }
   ],
   "source": [
    "n=10    \n",
    "for i in range(n+1):\n",
    "    print(\"{0:5}{1:5}{2:5}\".format(i,i**2,i**3))"
   ]
  },
  {
   "cell_type": "markdown",
   "metadata": {},
   "source": [
    "## Problema 2"
   ]
  },
  {
   "cell_type": "code",
   "execution_count": 12,
   "metadata": {},
   "outputs": [
    {
     "name": "stdout",
     "output_type": "stream",
     "text": [
      "Ingrese nota 1: 12\n",
      "Ingrese nota 2: 15\n",
      "Ingrese nota 3: 16\n",
      "Ingrese nota 4: 18\n",
      "El promedio es 16\n"
     ]
    }
   ],
   "source": [
    "MIN_NOTA=999    \n",
    "SUMA_NOTA=0\n",
    "for i in range(4):    \n",
    "    NOTA = int(input(f\"Ingrese nota {i+1}: \"))    \n",
    "    SUMA_NOTA+=NOTA\n",
    "    if NOTA<MIN_NOTA:\n",
    "        MIN_NOTA=NOTA\n",
    "SUMA_NOTA-=MIN_NOTA\n",
    "PROM_NOTA=round(SUMA_NOTA/3,0)\n",
    "print(f\"El promedio es {PROM_NOTA:.0f}\") "
   ]
  },
  {
   "cell_type": "code",
   "execution_count": null,
   "metadata": {},
   "outputs": [],
   "source": []
  }
 ],
 "metadata": {
  "kernelspec": {
   "display_name": "Python 3",
   "language": "python",
   "name": "python3"
  },
  "language_info": {
   "codemirror_mode": {
    "name": "ipython",
    "version": 3
   },
   "file_extension": ".py",
   "mimetype": "text/x-python",
   "name": "python",
   "nbconvert_exporter": "python",
   "pygments_lexer": "ipython3",
   "version": "3.6.6"
  }
 },
 "nbformat": 4,
 "nbformat_minor": 2
}
