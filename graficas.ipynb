{
 "cells": [
  {
   "cell_type": "code",
   "execution_count": 2,
   "metadata": {},
   "outputs": [],
   "source": [
    "import numpy as np\n",
    "f = lambda x: x**3\n",
    "n=5\n",
    "x=np.linspace(0,1,n)\n",
    "y=f(x)"
   ]
  },
  {
   "cell_type": "code",
   "execution_count": 3,
   "metadata": {},
   "outputs": [],
   "source": [
    "%matplotlib inline\n",
    "import matplotlib\n",
    "import matplotlib.pyplot as plt"
   ]
  },
  {
   "cell_type": "code",
   "execution_count": 10,
   "metadata": {},
   "outputs": [
    {
     "data": {
      "text/plain": [
       "Text(0.5,1,'Figura 1')"
      ]
     },
     "execution_count": 10,
     "metadata": {},
     "output_type": "execute_result"
    },
    {
     "data": {
      "image/png": "[encoded data removed]",
      "text/plain": [
       "<matplotlib.figure.Figure at 0x7f1b60009358>"
      ]
     },
     "metadata": {},
     "output_type": "display_data"
    }
   ],
   "source": [
    "plt.plot(x,y)\n",
    "plt.xlabel('x')\n",
    "plt.ylabel('y')\n",
    "plt.legend(['x^3'])\n",
    "plt.title('Figura 1')"
   ]
  },
  {
   "cell_type": "code",
   "execution_count": 12,
   "metadata": {
    "scrolled": true
   },
   "outputs": [
    {
     "data": {
      "text/plain": [
       "[<matplotlib.lines.Line2D at 0x7f1b5ff0fbe0>]"
      ]
     },
     "execution_count": 12,
     "metadata": {},
     "output_type": "execute_result"
    },
    {
     "data": {
      "image/png": "[encoded data removed]",
      "text/plain": [
       "<matplotlib.figure.Figure at 0x7f1b5ff91d68>"
      ]
     },
     "metadata": {},
     "output_type": "display_data"
    }
   ],
   "source": [
    "plt.subplot(2,1,1)\n",
    "plt.plot(x,y)\n",
    "plt.subplot(2,1,2)\n",
    "plt.plot(x,-y)"
   ]
  },
  {
   "cell_type": "code",
   "execution_count": 13,
   "metadata": {},
   "outputs": [
    {
     "name": "stderr",
     "output_type": "stream",
     "text": [
      "/home/docente/anaconda3/lib/python3.6/importlib/_bootstrap.py:219: RuntimeWarning: numpy.dtype size changed, may indicate binary incompatibility. Expected 96, got 88\n",
      "  return f(*args, **kwds)\n"
     ]
    }
   ],
   "source": [
    "import pandas as pd"
   ]
  },
  {
   "cell_type": "code",
   "execution_count": 16,
   "metadata": {},
   "outputs": [],
   "source": [
    "df = pd.read_csv('UK.csv','\\s+' )"
   ]
  },
  {
   "cell_type": "code",
   "execution_count": 17,
   "metadata": {},
   "outputs": [
    {
     "data": {
      "text/html": [
       "<div>\n",
       "<style scoped>\n",
       "    .dataframe tbody tr th:only-of-type {\n",
       "        vertical-align: middle;\n",
       "    }\n",
       "\n",
       "    .dataframe tbody tr th {\n",
       "        vertical-align: top;\n",
       "    }\n",
       "\n",
       "    .dataframe thead th {\n",
       "        text-align: right;\n",
       "    }\n",
       "</style>\n",
       "<table border=\"1\" class=\"dataframe\">\n",
       "  <thead>\n",
       "    <tr style=\"text-align: right;\">\n",
       "      <th></th>\n",
       "      <th>JAN</th>\n",
       "      <th>Year</th>\n",
       "      <th>FEB</th>\n",
       "      <th>Year.1</th>\n",
       "      <th>MAR</th>\n",
       "      <th>Year.2</th>\n",
       "      <th>APR</th>\n",
       "      <th>Year.3</th>\n",
       "      <th>MAY</th>\n",
       "      <th>Year.4</th>\n",
       "      <th>...</th>\n",
       "      <th>WIN</th>\n",
       "      <th>Year.12</th>\n",
       "      <th>SPR</th>\n",
       "      <th>Year.13</th>\n",
       "      <th>SUM</th>\n",
       "      <th>Year.14</th>\n",
       "      <th>AUT</th>\n",
       "      <th>Year.15</th>\n",
       "      <th>ANN</th>\n",
       "      <th>Year.16</th>\n",
       "    </tr>\n",
       "  </thead>\n",
       "  <tbody>\n",
       "    <tr>\n",
       "      <th>0</th>\n",
       "      <td>9.0</td>\n",
       "      <td>1916</td>\n",
       "      <td>10.0</td>\n",
       "      <td>2019</td>\n",
       "      <td>12.1</td>\n",
       "      <td>2012</td>\n",
       "      <td>15.7</td>\n",
       "      <td>2011</td>\n",
       "      <td>17.2</td>\n",
       "      <td>2018</td>\n",
       "      <td>...</td>\n",
       "      <td>8.61</td>\n",
       "      <td>1989.0</td>\n",
       "      <td>13.54</td>\n",
       "      <td>2011.0</td>\n",
       "      <td>20.96</td>\n",
       "      <td>1976.0</td>\n",
       "      <td>14.84</td>\n",
       "      <td>2006.0</td>\n",
       "      <td>13.54</td>\n",
       "      <td>2014.0</td>\n",
       "    </tr>\n",
       "    <tr>\n",
       "      <th>1</th>\n",
       "      <td>8.7</td>\n",
       "      <td>2007</td>\n",
       "      <td>9.8</td>\n",
       "      <td>1998</td>\n",
       "      <td>11.9</td>\n",
       "      <td>1938</td>\n",
       "      <td>15.2</td>\n",
       "      <td>2007</td>\n",
       "      <td>16.9</td>\n",
       "      <td>1992</td>\n",
       "      <td>...</td>\n",
       "      <td>8.38</td>\n",
       "      <td>2016.0</td>\n",
       "      <td>13.35</td>\n",
       "      <td>2007.0</td>\n",
       "      <td>20.63</td>\n",
       "      <td>2018.0</td>\n",
       "      <td>14.57</td>\n",
       "      <td>2011.0</td>\n",
       "      <td>13.48</td>\n",
       "      <td>2003.0</td>\n",
       "    </tr>\n",
       "    <tr>\n",
       "      <th>2</th>\n",
       "      <td>8.6</td>\n",
       "      <td>1989</td>\n",
       "      <td>8.9</td>\n",
       "      <td>2008</td>\n",
       "      <td>11.8</td>\n",
       "      <td>1948</td>\n",
       "      <td>13.6</td>\n",
       "      <td>2003</td>\n",
       "      <td>16.8</td>\n",
       "      <td>2017</td>\n",
       "      <td>...</td>\n",
       "      <td>8.34</td>\n",
       "      <td>2007.0</td>\n",
       "      <td>13.32</td>\n",
       "      <td>2017.0</td>\n",
       "      <td>20.58</td>\n",
       "      <td>1995.0</td>\n",
       "      <td>14.49</td>\n",
       "      <td>1959.0</td>\n",
       "      <td>13.38</td>\n",
       "      <td>2006.0</td>\n",
       "    </tr>\n",
       "    <tr>\n",
       "      <th>3</th>\n",
       "      <td>8.5</td>\n",
       "      <td>1932</td>\n",
       "      <td>8.9</td>\n",
       "      <td>1945</td>\n",
       "      <td>11.2</td>\n",
       "      <td>2003</td>\n",
       "      <td>13.5</td>\n",
       "      <td>1914</td>\n",
       "      <td>16.8</td>\n",
       "      <td>2008</td>\n",
       "      <td>...</td>\n",
       "      <td>8.21</td>\n",
       "      <td>2019.0</td>\n",
       "      <td>13.20</td>\n",
       "      <td>2003.0</td>\n",
       "      <td>20.47</td>\n",
       "      <td>2006.0</td>\n",
       "      <td>14.28</td>\n",
       "      <td>2014.0</td>\n",
       "      <td>13.34</td>\n",
       "      <td>2011.0</td>\n",
       "    </tr>\n",
       "    <tr>\n",
       "      <th>4</th>\n",
       "      <td>8.4</td>\n",
       "      <td>1921</td>\n",
       "      <td>8.8</td>\n",
       "      <td>1990</td>\n",
       "      <td>11.2</td>\n",
       "      <td>1961</td>\n",
       "      <td>13.3</td>\n",
       "      <td>2009</td>\n",
       "      <td>16.8</td>\n",
       "      <td>1919</td>\n",
       "      <td>...</td>\n",
       "      <td>8.16</td>\n",
       "      <td>1998.0</td>\n",
       "      <td>13.08</td>\n",
       "      <td>1945.0</td>\n",
       "      <td>20.25</td>\n",
       "      <td>2003.0</td>\n",
       "      <td>13.85</td>\n",
       "      <td>1949.0</td>\n",
       "      <td>13.26</td>\n",
       "      <td>2007.0</td>\n",
       "    </tr>\n",
       "  </tbody>\n",
       "</table>\n",
       "<p>5 rows × 34 columns</p>\n",
       "</div>"
      ],
      "text/plain": [
       "   JAN  Year   FEB  Year.1   MAR  Year.2   APR  Year.3   MAY  Year.4   ...     \\\n",
       "0  9.0  1916  10.0    2019  12.1    2012  15.7    2011  17.2    2018   ...      \n",
       "1  8.7  2007   9.8    1998  11.9    1938  15.2    2007  16.9    1992   ...      \n",
       "2  8.6  1989   8.9    2008  11.8    1948  13.6    2003  16.8    2017   ...      \n",
       "3  8.5  1932   8.9    1945  11.2    2003  13.5    1914  16.8    2008   ...      \n",
       "4  8.4  1921   8.8    1990  11.2    1961  13.3    2009  16.8    1919   ...      \n",
       "\n",
       "    WIN  Year.12    SPR  Year.13    SUM  Year.14    AUT  Year.15    ANN  \\\n",
       "0  8.61   1989.0  13.54   2011.0  20.96   1976.0  14.84   2006.0  13.54   \n",
       "1  8.38   2016.0  13.35   2007.0  20.63   2018.0  14.57   2011.0  13.48   \n",
       "2  8.34   2007.0  13.32   2017.0  20.58   1995.0  14.49   1959.0  13.38   \n",
       "3  8.21   2019.0  13.20   2003.0  20.47   2006.0  14.28   2014.0  13.34   \n",
       "4  8.16   1998.0  13.08   1945.0  20.25   2003.0  13.85   1949.0  13.26   \n",
       "\n",
       "   Year.16  \n",
       "0   2014.0  \n",
       "1   2003.0  \n",
       "2   2006.0  \n",
       "3   2011.0  \n",
       "4   2007.0  \n",
       "\n",
       "[5 rows x 34 columns]"
      ]
     },
     "execution_count": 17,
     "metadata": {},
     "output_type": "execute_result"
    }
   ],
   "source": [
    "df.head()"
   ]
  },
  {
   "cell_type": "code",
   "execution_count": 19,
   "metadata": {},
   "outputs": [
    {
     "data": {
      "text/plain": [
       "<matplotlib.axes._subplots.AxesSubplot at 0x7f1b59fed5c0>"
      ]
     },
     "execution_count": 19,
     "metadata": {},
     "output_type": "execute_result"
    },
    {
     "data": {
      "image/png": "[encoded data removed]",
      "text/plain": [
       "<matplotlib.figure.Figure at 0x7f1b5a6b7f60>"
      ]
     },
     "metadata": {},
     "output_type": "display_data"
    }
   ],
   "source": [
    "df.JAN.plot()"
   ]
  },
  {
   "cell_type": "code",
   "execution_count": 20,
   "metadata": {},
   "outputs": [
    {
     "data": {
      "text/plain": [
       "<matplotlib.axes._subplots.AxesSubplot at 0x7f1b5a5e9f98>"
      ]
     },
     "execution_count": 20,
     "metadata": {},
     "output_type": "execute_result"
    },
    {
     "data": {
      "image/png": "[encoded data removed]",
      "text/plain": [
       "<matplotlib.figure.Figure at 0x7f1b5a5f59b0>"
      ]
     },
     "metadata": {},
     "output_type": "display_data"
    }
   ],
   "source": [
    "df.JAN.hist()"
   ]
  },
  {
   "cell_type": "code",
   "execution_count": 21,
   "metadata": {},
   "outputs": [
    {
     "data": {
      "text/plain": [
       "5.957272727272724"
      ]
     },
     "execution_count": 21,
     "metadata": {},
     "output_type": "execute_result"
    }
   ],
   "source": [
    "df.JAN.mean()"
   ]
  },
  {
   "cell_type": "code",
   "execution_count": 22,
   "metadata": {},
   "outputs": [
    {
     "data": {
      "text/plain": [
       "9.0"
      ]
     },
     "execution_count": 22,
     "metadata": {},
     "output_type": "execute_result"
    }
   ],
   "source": [
    "df.JAN.max()"
   ]
  },
  {
   "cell_type": "code",
   "execution_count": 23,
   "metadata": {},
   "outputs": [
    {
     "data": {
      "text/plain": [
       "0.9"
      ]
     },
     "execution_count": 23,
     "metadata": {},
     "output_type": "execute_result"
    }
   ],
   "source": [
    "df.JAN.min()"
   ]
  },
  {
   "cell_type": "code",
   "execution_count": 35,
   "metadata": {},
   "outputs": [],
   "source": [
    "temp_Ene=df.loc[:,['JAN','Year']].sort_values(by=['Year']).set_index('Year')"
   ]
  },
  {
   "cell_type": "code",
   "execution_count": 37,
   "metadata": {},
   "outputs": [
    {
     "data": {
      "text/plain": [
       "<matplotlib.axes._subplots.AxesSubplot at 0x7f1b599d8da0>"
      ]
     },
     "execution_count": 37,
     "metadata": {},
     "output_type": "execute_result"
    },
    {
     "data": {
      "image/png": "[encoded data removed]",
      "text/plain": [
       "<matplotlib.figure.Figure at 0x7f1b59bc5fd0>"
      ]
     },
     "metadata": {},
     "output_type": "display_data"
    }
   ],
   "source": [
    "(temp_Ene-temp_Ene.mean()).plot()"
   ]
  },
  {
   "cell_type": "code",
   "execution_count": null,
   "metadata": {},
   "outputs": [],
   "source": []
  }
 ],
 "metadata": {
  "kernelspec": {
   "display_name": "Python 3",
   "language": "python",
   "name": "python3"
  },
  "language_info": {
   "codemirror_mode": {
    "name": "ipython",
    "version": 3
   },
   "file_extension": ".py",
   "mimetype": "text/x-python",
   "name": "python",
   "nbconvert_exporter": "python",
   "pygments_lexer": "ipython3",
   "version": "3.6.4"
  }
 },
 "nbformat": 4,
 "nbformat_minor": 2
}
