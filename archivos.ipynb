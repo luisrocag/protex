{
 "cells": [
  {
   "cell_type": "code",
   "execution_count": 1,
   "metadata": {},
   "outputs": [],
   "source": [
    "f = open(\"ejemplo.txt\",\"w+\")"
   ]
  },
  {
   "cell_type": "code",
   "execution_count": 2,
   "metadata": {},
   "outputs": [],
   "source": [
    "for i in range(10):\n",
    "     f.write(\"Linea numero %d\\r\\n\" % (i+1))"
   ]
  },
  {
   "cell_type": "code",
   "execution_count": 3,
   "metadata": {},
   "outputs": [],
   "source": [
    "f.close() "
   ]
  },
  {
   "cell_type": "code",
   "execution_count": 5,
   "metadata": {},
   "outputs": [],
   "source": [
    "with open(\"ejemplo.txt\",\"a+\") as f:\n",
    "    for i in range(10):\n",
    "        f.write(\"Linea numero %d\\r\\n\" % (i+1))"
   ]
  },
  {
   "cell_type": "code",
   "execution_count": 6,
   "metadata": {},
   "outputs": [
    {
     "name": "stdout",
     "output_type": "stream",
     "text": [
      "Linea numero 1\n",
      "\n",
      "Linea numero 2\n",
      "\n",
      "Linea numero 3\n",
      "\n",
      "Linea numero 4\n",
      "\n",
      "Linea numero 5\n",
      "\n",
      "Linea numero 6\n",
      "\n",
      "Linea numero 7\n",
      "\n",
      "Linea numero 8\n",
      "\n",
      "Linea numero 9\n",
      "\n",
      "Linea numero 10\n",
      "\n",
      "Linea numero 1\n",
      "\n",
      "Linea numero 2\n",
      "\n",
      "Linea numero 3\n",
      "\n",
      "Linea numero 4\n",
      "\n",
      "Linea numero 5\n",
      "\n",
      "Linea numero 6\n",
      "\n",
      "Linea numero 7\n",
      "\n",
      "Linea numero 8\n",
      "\n",
      "Linea numero 9\n",
      "\n",
      "Linea numero 10\n",
      "\n"
     ]
    }
   ],
   "source": [
    "with open(\"ejemplo.txt\",\"r\") as f:\n",
    "    for linea in f.readlines():\n",
    "        print(linea)"
   ]
  },
  {
   "cell_type": "code",
   "execution_count": 7,
   "metadata": {},
   "outputs": [],
   "source": [
    "import json\n",
    "import codecs"
   ]
  },
  {
   "cell_type": "code",
   "execution_count": 15,
   "metadata": {},
   "outputs": [],
   "source": [
    "a = [\"manzana\",\"naranja\", \"piña\"]"
   ]
  },
  {
   "cell_type": "code",
   "execution_count": 16,
   "metadata": {},
   "outputs": [
    {
     "data": {
      "text/plain": [
       "'[\"manzana\", \"naranja\", \"pina\"]'"
      ]
     },
     "execution_count": 16,
     "metadata": {},
     "output_type": "execute_result"
    }
   ],
   "source": [
    "json.dumps(a)"
   ]
  },
  {
   "cell_type": "code",
   "execution_count": 18,
   "metadata": {},
   "outputs": [],
   "source": [
    "with open(\"a.txt\",\"w+\") as f:\n",
    "    json.dump(a,f)"
   ]
  },
  {
   "cell_type": "code",
   "execution_count": 19,
   "metadata": {},
   "outputs": [],
   "source": [
    "with open(\"a.txt\",\"r\") as f:\n",
    "    a = json.load(f)"
   ]
  },
  {
   "cell_type": "code",
   "execution_count": 20,
   "metadata": {},
   "outputs": [
    {
     "data": {
      "text/plain": [
       "['manzana', 'naranja', 'pina']"
      ]
     },
     "execution_count": 20,
     "metadata": {},
     "output_type": "execute_result"
    }
   ],
   "source": [
    "a"
   ]
  },
  {
   "cell_type": "code",
   "execution_count": 24,
   "metadata": {},
   "outputs": [
    {
     "name": "stdout",
     "output_type": "stream",
     "text": [
      "Columnas , A, B, C\n",
      "Lima, 20, 40, 100\n",
      "Arequipa, 10, 50, 80\n",
      "Ica, 15, 20, 200\n",
      "Puno, 5, 10, 150\n",
      "Numero de linea=5\n"
     ]
    }
   ],
   "source": [
    "import csv\n",
    "with open('ejemplo.csv') as f:\n",
    "  reader = csv.reader(f, delimiter=';')\n",
    "  line_count = 0\n",
    "  for row in reader:\n",
    "    if line_count == 0:\n",
    "      print('Columnas {0}'.format(\", \".join(row)))\n",
    "      line_count += 1\n",
    "    else:\n",
    "      print(\", \".join(row))      \n",
    "      line_count += 1\n",
    "  print('Numero de linea={0}'.format(line_count))"
   ]
  },
  {
   "cell_type": "code",
   "execution_count": 26,
   "metadata": {},
   "outputs": [
    {
     "data": {
      "text/html": [
       "<div>\n",
       "<style scoped>\n",
       "    .dataframe tbody tr th:only-of-type {\n",
       "        vertical-align: middle;\n",
       "    }\n",
       "\n",
       "    .dataframe tbody tr th {\n",
       "        vertical-align: top;\n",
       "    }\n",
       "\n",
       "    .dataframe thead th {\n",
       "        text-align: right;\n",
       "    }\n",
       "</style>\n",
       "<table border=\"1\" class=\"dataframe\">\n",
       "  <thead>\n",
       "    <tr style=\"text-align: right;\">\n",
       "      <th></th>\n",
       "      <th>A</th>\n",
       "      <th>B</th>\n",
       "      <th>C</th>\n",
       "    </tr>\n",
       "  </thead>\n",
       "  <tbody>\n",
       "    <tr>\n",
       "      <th>Lima</th>\n",
       "      <td>20</td>\n",
       "      <td>40</td>\n",
       "      <td>100</td>\n",
       "    </tr>\n",
       "    <tr>\n",
       "      <th>Arequipa</th>\n",
       "      <td>10</td>\n",
       "      <td>50</td>\n",
       "      <td>80</td>\n",
       "    </tr>\n",
       "    <tr>\n",
       "      <th>Ica</th>\n",
       "      <td>15</td>\n",
       "      <td>20</td>\n",
       "      <td>200</td>\n",
       "    </tr>\n",
       "    <tr>\n",
       "      <th>Puno</th>\n",
       "      <td>5</td>\n",
       "      <td>10</td>\n",
       "      <td>150</td>\n",
       "    </tr>\n",
       "  </tbody>\n",
       "</table>\n",
       "</div>"
      ],
      "text/plain": [
       "           A   B    C\n",
       "Lima      20  40  100\n",
       "Arequipa  10  50   80\n",
       "Ica       15  20  200\n",
       "Puno       5  10  150"
      ]
     },
     "execution_count": 26,
     "metadata": {},
     "output_type": "execute_result"
    }
   ],
   "source": [
    "import pandas as pd\n",
    "pd.read_excel(\"ejemplo.xlsx\")"
   ]
  },
  {
   "cell_type": "code",
   "execution_count": null,
   "metadata": {},
   "outputs": [],
   "source": []
  }
 ],
 "metadata": {
  "kernelspec": {
   "display_name": "Python 3",
   "language": "python",
   "name": "python3"
  },
  "language_info": {
   "codemirror_mode": {
    "name": "ipython",
    "version": 3
   },
   "file_extension": ".py",
   "mimetype": "text/x-python",
   "name": "python",
   "nbconvert_exporter": "python",
   "pygments_lexer": "ipython3",
   "version": "3.4.3"
  }
 },
 "nbformat": 4,
 "nbformat_minor": 2
}
