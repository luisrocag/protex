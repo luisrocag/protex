{
 "cells": [
  {
   "cell_type": "code",
   "execution_count": 1,
   "metadata": {},
   "outputs": [
    {
     "name": "stdout",
     "output_type": "stream",
     "text": [
      "1\n",
      "1\n",
      "2\n"
     ]
    }
   ],
   "source": [
    "def factorial(n):\n",
    "    x = 1\n",
    "    for i in range(n):\n",
    "        x = x*(i+1)\n",
    "    return x\n",
    "\n",
    "print(factorial(0))\n",
    "print(factorial(1))\n",
    "print(factorial(2))"
   ]
  },
  {
   "cell_type": "code",
   "execution_count": 4,
   "metadata": {},
   "outputs": [
    {
     "name": "stdout",
     "output_type": "stream",
     "text": [
      "1\n",
      "1\n",
      "2\n"
     ]
    }
   ],
   "source": [
    "def rec_factorial(n):\n",
    "    if n==0 :\n",
    "        return 1\n",
    "    else:\n",
    "        return n*rec_factorial(n-1)\n",
    "\n",
    "print(rec_factorial(0))\n",
    "print(rec_factorial(1))\n",
    "print(rec_factorial(2))"
   ]
  },
  {
   "cell_type": "code",
   "execution_count": 5,
   "metadata": {},
   "outputs": [
    {
     "name": "stdout",
     "output_type": "stream",
     "text": [
      "2\n"
     ]
    }
   ],
   "source": [
    "def fibo(n):\n",
    "  if n==1 or n==2 : \n",
    "    return 1\n",
    "  else:\n",
    "    return fibo(n-1)+fibo(n-2)\n",
    "\n",
    "print(fibo(3))"
   ]
  },
  {
   "cell_type": "code",
   "execution_count": 10,
   "metadata": {},
   "outputs": [
    {
     "name": "stdout",
     "output_type": "stream",
     "text": [
      "6\n"
     ]
    }
   ],
   "source": [
    "def suma(A,n):\n",
    "  if n==0:\n",
    "     return 0\n",
    "  else:\n",
    "     return A[n-1]+suma(A,n-1)\n",
    "\n",
    "print(suma([1,2,3],3))"
   ]
  },
  {
   "cell_type": "code",
   "execution_count": 16,
   "metadata": {},
   "outputs": [
    {
     "name": "stdout",
     "output_type": "stream",
     "text": [
      "True\n"
     ]
    }
   ],
   "source": [
    "def buscar(x,A,n):\n",
    "  if n==0:\n",
    "      return False\n",
    "  elif x==A[n-1]:\n",
    "      return True\n",
    "  else:\n",
    "      return buscar(x,A,n-1)\n",
    "\n",
    "print(buscar(x=5,A=[1, 5, 2, 7 ],n=4))"
   ]
  },
  {
   "cell_type": "code",
   "execution_count": 22,
   "metadata": {},
   "outputs": [
    {
     "name": "stdout",
     "output_type": "stream",
     "text": [
      "2\n"
     ]
    }
   ],
   "source": [
    "def minimo(A,n=1):\n",
    "  if n==1:\n",
    "    if A[0]<A[1]:\n",
    "        return A[0]\n",
    "    else:\n",
    "        return A[1]\n",
    "  else:\n",
    "    return minimo([A[n-1],minimo(A,n-1)])\n",
    "\n",
    "print(minimo(A=[2,5,7,1,5],n=5))"
   ]
  },
  {
   "cell_type": "code",
   "execution_count": 32,
   "metadata": {},
   "outputs": [
    {
     "name": "stdout",
     "output_type": "stream",
     "text": [
      "[2, 2, 1, 1, 1]\n"
     ]
    }
   ],
   "source": [
    "def ordenar(A,B,n):\n",
    "    if n==0:\n",
    "        return\n",
    "    else:\n",
    "        x=minimo(A,n)\n",
    "        B[n-1]=x\n",
    "        ordenar(A,B,n-1)\n",
    "        \n",
    "\n",
    "A=[3,2,1,4,6];\n",
    "B=[0,0,0,0,0];\n",
    "ordenar(A,B,n=5);print(B)"
   ]
  },
  {
   "cell_type": "code",
   "execution_count": null,
   "metadata": {},
   "outputs": [],
   "source": []
  }
 ],
 "metadata": {
  "kernelspec": {
   "display_name": "Python 3",
   "language": "python",
   "name": "python3"
  },
  "language_info": {
   "codemirror_mode": {
    "name": "ipython",
    "version": 3
   },
   "file_extension": ".py",
   "mimetype": "text/x-python",
   "name": "python",
   "nbconvert_exporter": "python",
   "pygments_lexer": "ipython3",
   "version": "3.6.6"
  }
 },
 "nbformat": 4,
 "nbformat_minor": 2
}
