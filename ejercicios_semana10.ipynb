{
 "cells": [
  {
   "cell_type": "code",
   "execution_count": null,
   "metadata": {},
   "outputs": [],
   "source": [
    "n1 = int(input('Ingrese nota 1: '))\n",
    "n2 = int(input('Ingrese nota 2: '))\n",
    "n3 = int(input('Ingrese nota 3: '))\n",
    "n4 = int(input('Ingrese nota 4: '))\n",
    "suma = n1+n2+n3+n4\n",
    "min_nota = n1\n",
    "if n2<min_nota: \n",
    "    min_nota=n2\n",
    "if n3<min_nota: \n",
    "    min_nota=n3\n",
    "if n4<min_nota: \n",
    "    min_nota=n4\n",
    "suma = suma - min_nota\n",
    "print(f\"El promedio es {suma/3 : 5.2f}\")"
   ]
  },
  {
   "cell_type": "code",
   "execution_count": 11,
   "metadata": {},
   "outputs": [
    {
     "name": "stdout",
     "output_type": "stream",
     "text": [
      "Ingrese 4 notas : 12 13 14 15\n",
      "El promedio es  14.00\n"
     ]
    }
   ],
   "source": [
    "notas = [int(x) for x in input('Ingrese 4 notas : ').split()]\n",
    "promedio = (sum(notas)-min(notas))/3\n",
    "print(f\"El promedio es {promedio: 5.2f}\")"
   ]
  },
  {
   "cell_type": "code",
   "execution_count": 15,
   "metadata": {},
   "outputs": [
    {
     "name": "stdout",
     "output_type": "stream",
     "text": [
      "Ingrese area (m2) : 200\n",
      "Ingrese precio por m2 : 1000\n",
      "Impuesto: S/.10000.0\n"
     ]
    }
   ],
   "source": [
    "area = float(input('Ingrese area (m2) : '))\n",
    "precio = float(input('Ingrese precio por m2 : '))\n",
    "monto = area*precio\n",
    "if area <= 90 :\n",
    "    tasa = 0.02\n",
    "elif area <= 200 :\n",
    "    tasa = 0.05\n",
    "elif area <= 1000 :\n",
    "    tasa = 0.08\n",
    "else:\n",
    "    tasa = 0.11\n",
    "impuesto = tasa*monto\n",
    "print('Impuesto: S/.{0}'.format(impuesto))    "
   ]
  },
  {
   "cell_type": "code",
   "execution_count": 43,
   "metadata": {},
   "outputs": [
    {
     "name": "stdout",
     "output_type": "stream",
     "text": [
      "Ingrese area (m2) : 200\n",
      "Ingrese precio por m2 : 1000\n"
     ]
    }
   ],
   "source": [
    "import numpy as np\n",
    "area = float(input('Ingrese area (m2) : '))\n",
    "precio = float(input('Ingrese precio por m2 : '))\n",
    "tasas = np.array([0.02, 0.05, 0.08, 0.11])\n",
    "interv_areas = np.array([0, 91,201,1001])"
   ]
  },
  {
   "cell_type": "code",
   "execution_count": 69,
   "metadata": {},
   "outputs": [],
   "source": [
    "tasa=tasas[np.argwhere(area>=interv_areas).max()]"
   ]
  },
  {
   "cell_type": "code",
   "execution_count": 70,
   "metadata": {},
   "outputs": [
    {
     "name": "stdout",
     "output_type": "stream",
     "text": [
      "Impuesto: S/.10000.0\n"
     ]
    }
   ],
   "source": [
    "impuesto = tasa*monto\n",
    "print('Impuesto: S/.{0}'.format(impuesto))    "
   ]
  },
  {
   "cell_type": "code",
   "execution_count": 78,
   "metadata": {},
   "outputs": [
    {
     "name": "stdout",
     "output_type": "stream",
     "text": [
      "a\n",
      "a b\n",
      "a b c\n",
      "a b c d\n",
      "a b c d e\n",
      "a b c d e f\n"
     ]
    }
   ],
   "source": [
    "car=ord('a')\n",
    "for i in range(1,7):\n",
    "    print( ' '.join([chr(car + x) for x in range(i)]))"
   ]
  },
  {
   "cell_type": "code",
   "execution_count": 79,
   "metadata": {},
   "outputs": [
    {
     "data": {
      "text/plain": [
       "97"
      ]
     },
     "execution_count": 79,
     "metadata": {},
     "output_type": "execute_result"
    }
   ],
   "source": [
    "ord('a')"
   ]
  },
  {
   "cell_type": "code",
   "execution_count": 80,
   "metadata": {},
   "outputs": [
    {
     "data": {
      "text/plain": [
       "'a'"
      ]
     },
     "execution_count": 80,
     "metadata": {},
     "output_type": "execute_result"
    }
   ],
   "source": [
    "chr(97)"
   ]
  },
  {
   "cell_type": "code",
   "execution_count": null,
   "metadata": {},
   "outputs": [],
   "source": []
  }
 ],
 "metadata": {
  "kernelspec": {
   "display_name": "Python 3",
   "language": "python",
   "name": "python3"
  },
  "language_info": {
   "codemirror_mode": {
    "name": "ipython",
    "version": 3
   },
   "file_extension": ".py",
   "mimetype": "text/x-python",
   "name": "python",
   "nbconvert_exporter": "python",
   "pygments_lexer": "ipython3",
   "version": "3.6.6"
  }
 },
 "nbformat": 4,
 "nbformat_minor": 2
}
