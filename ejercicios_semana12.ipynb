{
 "cells": [
  {
   "cell_type": "code",
   "execution_count": 2,
   "metadata": {},
   "outputs": [
    {
     "name": "stdout",
     "output_type": "stream",
     "text": [
      "4\n"
     ]
    }
   ],
   "source": [
    "def funcion1(x):\n",
    "   return x**2\n",
    "\n",
    "print(funcion1(2))"
   ]
  },
  {
   "cell_type": "code",
   "execution_count": 5,
   "metadata": {},
   "outputs": [
    {
     "name": "stdout",
     "output_type": "stream",
     "text": [
      "2.0\n"
     ]
    }
   ],
   "source": [
    "def suma_1(x,n):\n",
    "    s = 1; t = 1\n",
    "    for i in range(n):\n",
    "       t = t*x\n",
    "       s = s + t \n",
    "    return(s)\n",
    "\n",
    "print(suma_1(0.5,100))"
   ]
  },
  {
   "cell_type": "code",
   "execution_count": 7,
   "metadata": {},
   "outputs": [
    {
     "data": {
      "text/plain": [
       "2.0"
      ]
     },
     "execution_count": 7,
     "metadata": {},
     "output_type": "execute_result"
    }
   ],
   "source": [
    "import numpy as np\n",
    "x=0.5;n=100\n",
    "np.power(x*np.ones((1,n+1)),range(n+1)).sum()"
   ]
  },
  {
   "cell_type": "code",
   "execution_count": 15,
   "metadata": {},
   "outputs": [
    {
     "name": "stdout",
     "output_type": "stream",
     "text": [
      "11.3 µs ± 629 ns per loop (mean ± std. dev. of 7 runs, 1 loop each)\n"
     ]
    }
   ],
   "source": [
    "%%timeit -n1\n",
    "suma_1(0.5,100)"
   ]
  },
  {
   "cell_type": "code",
   "execution_count": 16,
   "metadata": {},
   "outputs": [
    {
     "name": "stdout",
     "output_type": "stream",
     "text": [
      "72.6 µs ± 20.2 µs per loop (mean ± std. dev. of 7 runs, 1 loop each)\n"
     ]
    }
   ],
   "source": [
    "%%timeit -n1 \n",
    "np.power(x*np.ones((1,n+1)),range(n+1)).sum()"
   ]
  },
  {
   "cell_type": "code",
   "execution_count": 17,
   "metadata": {},
   "outputs": [
    {
     "name": "stdout",
     "output_type": "stream",
     "text": [
      "1\n"
     ]
    }
   ],
   "source": [
    "def calc_hipotenusa(a,b,c):\n",
    "   c = np.sqrt(a**2+b**2)\n",
    "\n",
    "a=3;b=4;c=1;\n",
    "calc_hipotenusa(a,b,c)\n",
    "print(c)"
   ]
  },
  {
   "cell_type": "code",
   "execution_count": 20,
   "metadata": {},
   "outputs": [
    {
     "name": "stdout",
     "output_type": "stream",
     "text": [
      "[5.0]\n"
     ]
    }
   ],
   "source": [
    "def calc_hipotenusa2(a,b,c):\n",
    "   c[0] = np.sqrt(a**2+b**2)\n",
    "\n",
    "a=3;b=4;c=[1];\n",
    "calc_hipotenusa2(a,b,c)\n",
    "print(c)"
   ]
  },
  {
   "cell_type": "code",
   "execution_count": 21,
   "metadata": {},
   "outputs": [
    {
     "name": "stdout",
     "output_type": "stream",
     "text": [
      "5.0\n"
     ]
    }
   ],
   "source": [
    "def calc_hipotenusa3(a,b):\n",
    "   return(np.sqrt(a**2+b**2))\n",
    "a=3;b=4;\n",
    "c=calc_hipotenusa3(a,b)\n",
    "print(c)"
   ]
  },
  {
   "cell_type": "code",
   "execution_count": 22,
   "metadata": {},
   "outputs": [
    {
     "name": "stdout",
     "output_type": "stream",
     "text": [
      "15\n"
     ]
    }
   ],
   "source": [
    "def suma_cifras(n):\n",
    "    s = 0\n",
    "    c = n\n",
    "    while c>0:\n",
    "      r = c % 10 # residuo    \n",
    "      c = c // 10 # division entera\n",
    "      s = s + r\n",
    "    return s\n",
    "    \n",
    "print(suma_cifras(12345))"
   ]
  },
  {
   "cell_type": "code",
   "execution_count": 23,
   "metadata": {},
   "outputs": [],
   "source": [
    "funcion2 = lambda x: x**2-5\n",
    "derivada_funcion2 = lambda x: 2*x"
   ]
  },
  {
   "cell_type": "code",
   "execution_count": 25,
   "metadata": {},
   "outputs": [],
   "source": [
    "def resuelve_newton(f,df,x0):\n",
    "    n=10; x=x0\n",
    "    for i in range(n):\n",
    "       x = x - f(x)/df(x)\n",
    "    return(x)"
   ]
  },
  {
   "cell_type": "code",
   "execution_count": 26,
   "metadata": {},
   "outputs": [
    {
     "name": "stdout",
     "output_type": "stream",
     "text": [
      "2.23606797749979\n"
     ]
    }
   ],
   "source": [
    "print(resuelve_newton(funcion2,derivada_funcion2,1))"
   ]
  },
  {
   "cell_type": "code",
   "execution_count": 28,
   "metadata": {},
   "outputs": [
    {
     "name": "stdout",
     "output_type": "stream",
     "text": [
      "(1, 3)\n"
     ]
    }
   ],
   "source": [
    "def elemento_menor(A):\n",
    "    n=len(A)\n",
    "    i_menor = 0\n",
    "    menor = A[0]\n",
    "    for i in range(n):\n",
    "        if A[i]< menor:\n",
    "            menor  = A[i]\n",
    "            i_menor = i\n",
    "            \n",
    "    return(menor,i_menor)        \n",
    "\n",
    "print(elemento_menor([3,4,2,1,8]))"
   ]
  },
  {
   "cell_type": "code",
   "execution_count": null,
   "metadata": {},
   "outputs": [],
   "source": []
  }
 ],
 "metadata": {
  "kernelspec": {
   "display_name": "Python 3",
   "language": "python",
   "name": "python3"
  },
  "language_info": {
   "codemirror_mode": {
    "name": "ipython",
    "version": 3
   },
   "file_extension": ".py",
   "mimetype": "text/x-python",
   "name": "python",
   "nbconvert_exporter": "python",
   "pygments_lexer": "ipython3",
   "version": "3.6.4"
  }
 },
 "nbformat": 4,
 "nbformat_minor": 2
}
